{
 "cells": [
  {
   "cell_type": "code",
   "execution_count": null,
   "metadata": {},
   "outputs": [],
   "source": [
    "import sqlite3\n",
    "conn = sqlite3.connect('SFOairtraffic.sqlite')\n",
    "cur = conn.cursor()\n",
    "cur.execute('DROP TABLE IF EXISTS flight_activity')\n",
    "cur. execute('CREATE TABLE flight_activity (Passenger Count INTEGER, Airline Code TEXT, Activity Type TEXT, Terminal TEXT, Boarding Area TEXT)')\n",
    "\n",
    "conn.close()"
   ]
  },
  {
   "cell_type": "code",
   "execution_count": null,
   "metadata": {},
   "outputs": [],
   "source": [
    "from sqlalchemy import create_engine\n",
    "from sqlalchemy import Table, Column, Integer, String, MetaData, ForeignKey\n",
    "\n",
    "engine = create_engine('sqlite:///:memory')\n",
    "\n",
    "metadata=MetaData()\n",
    "flight_activity = Table ('flight_activity', metadata,\n",
    "                        Column('Passenger Count', Integer, primary_key=True),\n",
    "                        Column('Airline Code', String),\n",
    "                        Column('Activity Type', String),\n",
    "                        Column('Terminal', String),\n",
    "                        Column('Boarding Area', String)\n",
    "                        )\n",
    "metadata.create_all(engine)"
   ]
  },
  {
   "cell_type": "code",
   "execution_count": null,
   "metadata": {},
   "outputs": [],
   "source": [
    "import sqlite3\n",
    "conn = sqlite3.connect('SFOairtraffic.sqlite')\n",
    "cur = conn.cursor()\n",
    "cur.execute('DROP TABLE IF EXISTS flight_classification')\n",
    "cur. execute('CREATE TABLE flight_classification (Passenger Count INTEGER, Airline Code TEXT, Geo Summary TEXT, GeoRegion TEXT)')\n",
    "\n",
    "conn.close()"
   ]
  },
  {
   "cell_type": "code",
   "execution_count": null,
   "metadata": {},
   "outputs": [],
   "source": [
    "from sqlalchemy import create_engine\n",
    "from sqlalchemy import Table, Column, Integer, String, MetaData, ForeignKey\n",
    "\n",
    "engine = create_engine('sqlite:///:memory')\n",
    "\n",
    "metadata=MetaData()\n",
    "flight_classification = Table ('flight_classification', metadata,\n",
    "                        Column('Passenger Count', Integer, primary_key=True),\n",
    "                        Column('Airline Code', String),\n",
    "                        Column('Geo Summary', String),\n",
    "                        Column('GeoRegion', String)\n",
    "                        )\n",
    "metadata.create_all(engine)"
   ]
  },
  {
   "cell_type": "code",
   "execution_count": null,
   "metadata": {},
   "outputs": [],
   "source": [
    "import sqlite3\n",
    "conn = sqlite3.connect('SFOairtraffic.sqlite')\n",
    "cur = conn.cursor()\n",
    "cur.execute('DROP TABLE IF EXISTS operating_airline')\n",
    "cur. execute('CREATE TABLE operating_airline (Passenger Count INTEGER, Airline Code TEXT, Airline Name TEXT)')\n",
    "\n",
    "conn.close()"
   ]
  },
  {
   "cell_type": "code",
   "execution_count": null,
   "metadata": {},
   "outputs": [],
   "source": [
    "from sqlalchemy import create_engine\n",
    "from sqlalchemy import Table, Column, Integer, String, MetaData, ForeignKey\n",
    "\n",
    "engine = create_engine('sqlite:///:memory')\n",
    "\n",
    "metadata=MetaData()\n",
    "operating_airline = Table ('operating_airline', metadata,\n",
    "                        Column('Passenger Count', Integer, primary_key=True),\n",
    "                        Column('Airline Code', String),\n",
    "                        Column('Airline Name', String)\n",
    "                        )\n",
    "metadata.create_all(engine)"
   ]
  }
 ],
 "metadata": {
  "kernelspec": {
   "display_name": "Python 3",
   "language": "python",
   "name": "python3"
  },
  "language_info": {
   "codemirror_mode": {
    "name": "ipython",
    "version": 3
   },
   "file_extension": ".py",
   "mimetype": "text/x-python",
   "name": "python",
   "nbconvert_exporter": "python",
   "pygments_lexer": "ipython3",
   "version": "3.6.5"
  }
 },
 "nbformat": 4,
 "nbformat_minor": 2 
}
