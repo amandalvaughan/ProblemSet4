{
 "cells": [
  {
   "cell_type": "code",
   "execution_count": null,
   "metadata": {},
   "outputs": [],
   "source": [
    "import sqlite3\n",
    "\n",
    "conn = sqlite3.connect('test.sqlite')\n",
    "cur = conn.cursor()\n",
    "\n",
    "cur.execute('INSERT INTO flight_activity (Passenger Count, Airline Code, Activity Type, Terminal, Boarding Area) VALUES (?, ?, ?, ?, ?)'\n",
    "           (100, 'Code', 'Type', 'Terminal', 'Boarding Area'))\n",
    "cur.execute('INSERT INTO flight_activity (Passenger Count, Airline Code, Activity Type, Terminal, Boarding Area) VALUES (?, ?, ?, ?, ?)'\n",
    "           (100, 'Code', 'Type', 'Terminal', 'Boarding Area'))\n",
    "#Continue till all data loaded\n",
    "\n",
    "conn.commit()\n",
    "\n",
    "#Do likewise for all tables"
   ]
  }
 ],
 "metadata": {
  "kernelspec": {
   "display_name": "Python 3",
   "language": "python",
   "name": "python3"
  },
  "language_info": {
   "codemirror_mode": {
    "name": "ipython",
    "version": 3
   },
   "file_extension": ".py",
   "mimetype": "text/x-python",
   "name": "python",
   "nbconvert_exporter": "python",
   "pygments_lexer": "ipython3",
   "version": "3.6.5"
  }
 },
 "nbformat": 4,
 "nbformat_minor": 2
}
